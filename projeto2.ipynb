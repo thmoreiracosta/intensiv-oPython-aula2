{
 "metadata": {
  "language_info": {
   "codemirror_mode": {
    "name": "ipython",
    "version": 3
   },
   "file_extension": ".py",
   "mimetype": "text/x-python",
   "name": "python",
   "nbconvert_exporter": "python",
   "pygments_lexer": "ipython3",
   "version": "3.8.6-final"
  },
  "orig_nbformat": 2,
  "kernelspec": {
   "name": "python38664bit772f704cf7a34ac996ec15424e46baf4",
   "display_name": "Python 3.8.6 64-bit",
   "language": "python"
  }
 },
 "nbformat": 4,
 "nbformat_minor": 2,
 "cells": [
  {
   "source": [
    "# Desafio: \n",
    "\n",
    "# Você trabalha em uma grande empresa de Cartão de Crédito e o diretor da empresa percebeu que o número de clientes que cancelam seus cartões tem aumentado significativamente, causando prejuízos enormes para a empresa\n",
    "\n",
    "# O que fazer para evitar isso? Como saber as pessoas que têm maior tendência a cancelar o cartão?\n",
    "\n",
    "# # O que temos:\n",
    "\n",
    "# Temos 1 base de dados com informações dos clientes, tanto clientes atuais quanto clientes que cancelaram o cartão\n",
    "\n",
    "# Download da Base de Dados: https://drive.google.com/file/d/1c0F7BDwvOZ9NnIj3tUANuvmp_jRYsh31/view?usp=sharing\n",
    "\n",
    "# Referência: https://www.kaggle.com/sakshigoyal7/credit-card-customers\n",
    "\n",
    "# Passo 1: Importar a base de dados\n",
    "\n",
    "# Passo 2: Visualizar a base de dados e ver se precisa de algum \"tratamento\"\n",
    "#   - Excluir/Corrigir linhas e valores vazios\n",
    "#   - Ajeitar colunas importadas da forma errada (ex: Moedas, caso haja problema)\n",
    "#   - Excluir colunas inúteis\n",
    "\n",
    "# Passo 3: Analisar a base de dados de acordo com o que queremos descobrir\n",
    "#   - Queremos descobrir as principais causas de cancelamento ou quem são os clientes com maior chance de cancelar o cartão, para podermos criar um plano de ação\n"
   ],
   "cell_type": "code",
   "metadata": {},
   "execution_count": null,
   "outputs": []
  },
  {
   "source": [
    "#Passo 1: Importar a Base de Dados\n",
    "#Passo 2: Tratamento da Base de Dados\n",
    "    # - Excluir/ Corrigir linhas e colunas vazias\n",
    "    # - Ajeitar as colunas importadas\n",
    "    # - Excluir colunas inúteis\n",
    "#Passo 3: Analisar a base de dados\n",
    "    # - Queremos descobrir os principais motivos de cancelamento do cartão"
   ],
   "cell_type": "code",
   "metadata": {},
   "execution_count": null,
   "outputs": []
  },
  {
   "source": [
    "Passo 1: Importando a Base de Dados"
   ],
   "cell_type": "markdown",
   "metadata": {}
  },
  {
   "source": [
    "import pandas as pd\n",
    "\n",
    "tabela_clientes = pd.read_csv('ClientesBanco.csv',encoding='latin1')\n",
    "tabela_clientes = tabela_clientes.drop('CLIENTNUM', axis=1)\n",
    "display(tabela_clientes)"
   ],
   "cell_type": "code",
   "metadata": {},
   "execution_count": 18,
   "outputs": [
    {
     "output_type": "display_data",
     "data": {
      "text/plain": "       Categoria  Idade Sexo  Dependentes           Educação   Estado Civil  \\\n0        Cliente     45    M            3       Ensino Médio         Casado   \n1        Cliente     49    F            5    Ensino Superior       Solteiro   \n2        Cliente     51    M            3    Ensino Superior         Casado   \n3        Cliente     40    F            4       Ensino Médio  Não informado   \n4        Cliente     40    M            3  Sem ensino formal         Casado   \n...          ...    ...  ...          ...                ...            ...   \n10122    Cliente     50    M            2    Ensino Superior       Solteiro   \n10123  Cancelado     41    M            2      Não informado     Divorciado   \n10124  Cancelado     44    F            1       Ensino Médio         Casado   \n10125  Cancelado     30    M            2    Ensino Superior  Não informado   \n10126  Cancelado     43    F            2    Ensino Superior         Casado   \n\n      Faixa Salarial Anual Categoria Cartão  Meses como Cliente  \\\n0              $60K - $80K             Blue                  39   \n1           Less than $40K             Blue                  44   \n2             $80K - $120K             Blue                  36   \n3           Less than $40K             Blue                  34   \n4              $60K - $80K             Blue                  21   \n...                    ...              ...                 ...   \n10122          $40K - $60K             Blue                  40   \n10123          $40K - $60K             Blue                  25   \n10124       Less than $40K             Blue                  36   \n10125          $40K - $60K             Blue                  36   \n10126       Less than $40K           Silver                  25   \n\n       Produtos Contratados  Inatividade 12m  Contatos 12m   Limite  \\\n0                         5                1             3  12691.0   \n1                         6                1             2   8256.0   \n2                         4                1             0   3418.0   \n3                         3                4             1   3313.0   \n4                         5                1             0   4716.0   \n...                     ...              ...           ...      ...   \n10122                     3                2             3   4003.0   \n10123                     4                2             3   4277.0   \n10124                     5                3             4   5409.0   \n10125                     4                3             3   5281.0   \n10126                     6                2             4  10388.0   \n\n       Limite Consumido  Limite Disponível  Mudanças Transacoes_Q4_Q1  \\\n0                   777            11914.0                   1335.000   \n1                   864             7392.0                   1541.000   \n2                     0             3418.0                   2594.000   \n3                  2517              796.0                   1405.000   \n4                     0             4716.0                   2175.000   \n...                 ...                ...                        ...   \n10122              1851             2152.0                      0.703   \n10123              2186             2091.0                      0.804   \n10124                 0             5409.0                      0.819   \n10125                 0             5281.0                      0.535   \n10126              1961             8427.0                      0.703   \n\n       Valor Transacoes 12m  Qtde Transacoes 12m  \\\n0                      1144                   42   \n1                      1291                   33   \n2                      1887                   20   \n3                      1171                   20   \n4                       816                   28   \n...                     ...                  ...   \n10122                 15476                  117   \n10123                  8764                   69   \n10124                 10291                   60   \n10125                  8395                   62   \n10126                 10294                   61   \n\n       Mudança Qtde Transações_Q4_Q1  Taxa de Utilização Cartão  \n0                           1625.000                      0.061  \n1                           3714.000                      0.105  \n2                           2333.000                      0.000  \n3                           2333.000                      0.760  \n4                              2.500                      0.000  \n...                              ...                        ...  \n10122                          0.857                      0.462  \n10123                          0.683                      0.511  \n10124                          0.818                      0.000  \n10125                          0.722                      0.000  \n10126                          0.649                      0.189  \n\n[10127 rows x 20 columns]",
      "text/html": "<div>\n<style scoped>\n    .dataframe tbody tr th:only-of-type {\n        vertical-align: middle;\n    }\n\n    .dataframe tbody tr th {\n        vertical-align: top;\n    }\n\n    .dataframe thead th {\n        text-align: right;\n    }\n</style>\n<table border=\"1\" class=\"dataframe\">\n  <thead>\n    <tr style=\"text-align: right;\">\n      <th></th>\n      <th>Categoria</th>\n      <th>Idade</th>\n      <th>Sexo</th>\n      <th>Dependentes</th>\n      <th>Educação</th>\n      <th>Estado Civil</th>\n      <th>Faixa Salarial Anual</th>\n      <th>Categoria Cartão</th>\n      <th>Meses como Cliente</th>\n      <th>Produtos Contratados</th>\n      <th>Inatividade 12m</th>\n      <th>Contatos 12m</th>\n      <th>Limite</th>\n      <th>Limite Consumido</th>\n      <th>Limite Disponível</th>\n      <th>Mudanças Transacoes_Q4_Q1</th>\n      <th>Valor Transacoes 12m</th>\n      <th>Qtde Transacoes 12m</th>\n      <th>Mudança Qtde Transações_Q4_Q1</th>\n      <th>Taxa de Utilização Cartão</th>\n    </tr>\n  </thead>\n  <tbody>\n    <tr>\n      <th>0</th>\n      <td>Cliente</td>\n      <td>45</td>\n      <td>M</td>\n      <td>3</td>\n      <td>Ensino Médio</td>\n      <td>Casado</td>\n      <td>$60K - $80K</td>\n      <td>Blue</td>\n      <td>39</td>\n      <td>5</td>\n      <td>1</td>\n      <td>3</td>\n      <td>12691.0</td>\n      <td>777</td>\n      <td>11914.0</td>\n      <td>1335.000</td>\n      <td>1144</td>\n      <td>42</td>\n      <td>1625.000</td>\n      <td>0.061</td>\n    </tr>\n    <tr>\n      <th>1</th>\n      <td>Cliente</td>\n      <td>49</td>\n      <td>F</td>\n      <td>5</td>\n      <td>Ensino Superior</td>\n      <td>Solteiro</td>\n      <td>Less than $40K</td>\n      <td>Blue</td>\n      <td>44</td>\n      <td>6</td>\n      <td>1</td>\n      <td>2</td>\n      <td>8256.0</td>\n      <td>864</td>\n      <td>7392.0</td>\n      <td>1541.000</td>\n      <td>1291</td>\n      <td>33</td>\n      <td>3714.000</td>\n      <td>0.105</td>\n    </tr>\n    <tr>\n      <th>2</th>\n      <td>Cliente</td>\n      <td>51</td>\n      <td>M</td>\n      <td>3</td>\n      <td>Ensino Superior</td>\n      <td>Casado</td>\n      <td>$80K - $120K</td>\n      <td>Blue</td>\n      <td>36</td>\n      <td>4</td>\n      <td>1</td>\n      <td>0</td>\n      <td>3418.0</td>\n      <td>0</td>\n      <td>3418.0</td>\n      <td>2594.000</td>\n      <td>1887</td>\n      <td>20</td>\n      <td>2333.000</td>\n      <td>0.000</td>\n    </tr>\n    <tr>\n      <th>3</th>\n      <td>Cliente</td>\n      <td>40</td>\n      <td>F</td>\n      <td>4</td>\n      <td>Ensino Médio</td>\n      <td>Não informado</td>\n      <td>Less than $40K</td>\n      <td>Blue</td>\n      <td>34</td>\n      <td>3</td>\n      <td>4</td>\n      <td>1</td>\n      <td>3313.0</td>\n      <td>2517</td>\n      <td>796.0</td>\n      <td>1405.000</td>\n      <td>1171</td>\n      <td>20</td>\n      <td>2333.000</td>\n      <td>0.760</td>\n    </tr>\n    <tr>\n      <th>4</th>\n      <td>Cliente</td>\n      <td>40</td>\n      <td>M</td>\n      <td>3</td>\n      <td>Sem ensino formal</td>\n      <td>Casado</td>\n      <td>$60K - $80K</td>\n      <td>Blue</td>\n      <td>21</td>\n      <td>5</td>\n      <td>1</td>\n      <td>0</td>\n      <td>4716.0</td>\n      <td>0</td>\n      <td>4716.0</td>\n      <td>2175.000</td>\n      <td>816</td>\n      <td>28</td>\n      <td>2.500</td>\n      <td>0.000</td>\n    </tr>\n    <tr>\n      <th>...</th>\n      <td>...</td>\n      <td>...</td>\n      <td>...</td>\n      <td>...</td>\n      <td>...</td>\n      <td>...</td>\n      <td>...</td>\n      <td>...</td>\n      <td>...</td>\n      <td>...</td>\n      <td>...</td>\n      <td>...</td>\n      <td>...</td>\n      <td>...</td>\n      <td>...</td>\n      <td>...</td>\n      <td>...</td>\n      <td>...</td>\n      <td>...</td>\n      <td>...</td>\n    </tr>\n    <tr>\n      <th>10122</th>\n      <td>Cliente</td>\n      <td>50</td>\n      <td>M</td>\n      <td>2</td>\n      <td>Ensino Superior</td>\n      <td>Solteiro</td>\n      <td>$40K - $60K</td>\n      <td>Blue</td>\n      <td>40</td>\n      <td>3</td>\n      <td>2</td>\n      <td>3</td>\n      <td>4003.0</td>\n      <td>1851</td>\n      <td>2152.0</td>\n      <td>0.703</td>\n      <td>15476</td>\n      <td>117</td>\n      <td>0.857</td>\n      <td>0.462</td>\n    </tr>\n    <tr>\n      <th>10123</th>\n      <td>Cancelado</td>\n      <td>41</td>\n      <td>M</td>\n      <td>2</td>\n      <td>Não informado</td>\n      <td>Divorciado</td>\n      <td>$40K - $60K</td>\n      <td>Blue</td>\n      <td>25</td>\n      <td>4</td>\n      <td>2</td>\n      <td>3</td>\n      <td>4277.0</td>\n      <td>2186</td>\n      <td>2091.0</td>\n      <td>0.804</td>\n      <td>8764</td>\n      <td>69</td>\n      <td>0.683</td>\n      <td>0.511</td>\n    </tr>\n    <tr>\n      <th>10124</th>\n      <td>Cancelado</td>\n      <td>44</td>\n      <td>F</td>\n      <td>1</td>\n      <td>Ensino Médio</td>\n      <td>Casado</td>\n      <td>Less than $40K</td>\n      <td>Blue</td>\n      <td>36</td>\n      <td>5</td>\n      <td>3</td>\n      <td>4</td>\n      <td>5409.0</td>\n      <td>0</td>\n      <td>5409.0</td>\n      <td>0.819</td>\n      <td>10291</td>\n      <td>60</td>\n      <td>0.818</td>\n      <td>0.000</td>\n    </tr>\n    <tr>\n      <th>10125</th>\n      <td>Cancelado</td>\n      <td>30</td>\n      <td>M</td>\n      <td>2</td>\n      <td>Ensino Superior</td>\n      <td>Não informado</td>\n      <td>$40K - $60K</td>\n      <td>Blue</td>\n      <td>36</td>\n      <td>4</td>\n      <td>3</td>\n      <td>3</td>\n      <td>5281.0</td>\n      <td>0</td>\n      <td>5281.0</td>\n      <td>0.535</td>\n      <td>8395</td>\n      <td>62</td>\n      <td>0.722</td>\n      <td>0.000</td>\n    </tr>\n    <tr>\n      <th>10126</th>\n      <td>Cancelado</td>\n      <td>43</td>\n      <td>F</td>\n      <td>2</td>\n      <td>Ensino Superior</td>\n      <td>Casado</td>\n      <td>Less than $40K</td>\n      <td>Silver</td>\n      <td>25</td>\n      <td>6</td>\n      <td>2</td>\n      <td>4</td>\n      <td>10388.0</td>\n      <td>1961</td>\n      <td>8427.0</td>\n      <td>0.703</td>\n      <td>10294</td>\n      <td>61</td>\n      <td>0.649</td>\n      <td>0.189</td>\n    </tr>\n  </tbody>\n</table>\n<p>10127 rows × 20 columns</p>\n</div>"
     },
     "metadata": {}
    }
   ]
  },
  {
   "source": [
    "Passo 2: Tratando a base de dados"
   ],
   "cell_type": "markdown",
   "metadata": {}
  },
  {
   "cell_type": "code",
   "execution_count": 9,
   "metadata": {},
   "outputs": [
    {
     "output_type": "stream",
     "name": "stdout",
     "text": [
      "<class 'pandas.core.frame.DataFrame'>\nInt64Index: 10126 entries, 0 to 10126\nData columns (total 20 columns):\n #   Column                         Non-Null Count  Dtype  \n---  ------                         --------------  -----  \n 0   Categoria                      10126 non-null  object \n 1   Idade                          10126 non-null  int64  \n 2   Sexo                           10126 non-null  object \n 3   Dependentes                    10126 non-null  int64  \n 4   Educa��o                       10126 non-null  object \n 5   Estado Civil                   10126 non-null  object \n 6   Faixa Salarial Anual           10126 non-null  object \n 7   Categoria Cart�o               10126 non-null  object \n 8   Meses como Cliente             10126 non-null  int64  \n 9   Produtos Contratados           10126 non-null  int64  \n 10  Inatividade 12m                10126 non-null  int64  \n 11  Contatos 12m                   10126 non-null  int64  \n 12  Limite                         10126 non-null  float64\n 13  Limite Consumido               10126 non-null  int64  \n 14  Limite Dispon�vel              10126 non-null  float64\n 15  Mudan�as Transacoes_Q4_Q1      10126 non-null  float64\n 16  Valor Transacoes 12m           10126 non-null  int64  \n 17  Qtde Transacoes 12m            10126 non-null  int64  \n 18  Mudan�a Qtde Transa��es_Q4_Q1  10126 non-null  float64\n 19  Taxa de Utiliza��o Cart�o      10126 non-null  float64\ndtypes: float64(5), int64(9), object(6)\nmemory usage: 1.6+ MB\n"
     ]
    },
    {
     "output_type": "display_data",
     "data": {
      "text/plain": "None"
     },
     "metadata": {}
    },
    {
     "output_type": "display_data",
     "data": {
      "text/plain": "              Idade   Dependentes  Meses como Cliente  Produtos Contratados  \\\ncount  10126.000000  10126.000000        10126.000000          10126.000000   \nmean      46.327079      2.346139           35.928995              3.812463   \nstd        8.016420      1.298956            7.986593              1.554440   \nmin       26.000000      0.000000           13.000000              1.000000   \n25%       41.000000      1.000000           31.000000              3.000000   \n50%       46.000000      2.000000           36.000000              4.000000   \n75%       52.000000      3.000000           40.000000              5.000000   \nmax       73.000000      5.000000           56.000000              6.000000   \n\n       Inatividade 12m  Contatos 12m        Limite  Limite Consumido  \\\ncount     10126.000000  10126.000000  10126.000000      10126.000000   \nmean          2.341300      2.455264   8631.962088       1162.764369   \nstd           1.010584      1.106267   9089.225428        815.012238   \nmin           0.000000      0.000000   1438.300000          0.000000   \n25%           2.000000      2.000000   2555.000000        358.000000   \n50%           2.000000      2.000000   4549.000000       1276.000000   \n75%           3.000000      3.000000  11067.750000       1784.000000   \nmax           6.000000      6.000000  34516.000000       2517.000000   \n\n       Limite Dispon�vel  Mudan�as Transacoes_Q4_Q1  Valor Transacoes 12m  \\\ncount       10126.000000               10126.000000          10126.000000   \nmean         7469.197719                 108.713167           4404.391764   \nstd          9091.132356                 353.912795           3397.157925   \nmin             3.000000                   0.000000            510.000000   \n25%          1324.250000                   0.631000           2156.000000   \n50%          3473.000000                   0.736000           3899.500000   \n75%          9860.000000                   0.859000           4741.000000   \nmax         34516.000000                3397.000000          18484.000000   \n\n       Qtde Transacoes 12m  Mudan�a Qtde Transa��es_Q4_Q1  \\\ncount         10126.000000                   10126.000000   \nmean             64.861841                      66.579995   \nstd              23.471594                     284.001363   \nmin              10.000000                       0.000000   \n25%              45.000000                       0.582000   \n50%              67.000000                       0.702000   \n75%              81.000000                       0.818000   \nmax             139.000000                    3714.000000   \n\n       Taxa de Utiliza��o Cart�o  \ncount               10126.000000  \nmean                    0.274901  \nstd                     0.275704  \nmin                     0.000000  \n25%                     0.023000  \n50%                     0.175500  \n75%                     0.503000  \nmax                     0.999000  ",
      "text/html": "<div>\n<style scoped>\n    .dataframe tbody tr th:only-of-type {\n        vertical-align: middle;\n    }\n\n    .dataframe tbody tr th {\n        vertical-align: top;\n    }\n\n    .dataframe thead th {\n        text-align: right;\n    }\n</style>\n<table border=\"1\" class=\"dataframe\">\n  <thead>\n    <tr style=\"text-align: right;\">\n      <th></th>\n      <th>Idade</th>\n      <th>Dependentes</th>\n      <th>Meses como Cliente</th>\n      <th>Produtos Contratados</th>\n      <th>Inatividade 12m</th>\n      <th>Contatos 12m</th>\n      <th>Limite</th>\n      <th>Limite Consumido</th>\n      <th>Limite Dispon�vel</th>\n      <th>Mudan�as Transacoes_Q4_Q1</th>\n      <th>Valor Transacoes 12m</th>\n      <th>Qtde Transacoes 12m</th>\n      <th>Mudan�a Qtde Transa��es_Q4_Q1</th>\n      <th>Taxa de Utiliza��o Cart�o</th>\n    </tr>\n  </thead>\n  <tbody>\n    <tr>\n      <th>count</th>\n      <td>10126.000000</td>\n      <td>10126.000000</td>\n      <td>10126.000000</td>\n      <td>10126.000000</td>\n      <td>10126.000000</td>\n      <td>10126.000000</td>\n      <td>10126.000000</td>\n      <td>10126.000000</td>\n      <td>10126.000000</td>\n      <td>10126.000000</td>\n      <td>10126.000000</td>\n      <td>10126.000000</td>\n      <td>10126.000000</td>\n      <td>10126.000000</td>\n    </tr>\n    <tr>\n      <th>mean</th>\n      <td>46.327079</td>\n      <td>2.346139</td>\n      <td>35.928995</td>\n      <td>3.812463</td>\n      <td>2.341300</td>\n      <td>2.455264</td>\n      <td>8631.962088</td>\n      <td>1162.764369</td>\n      <td>7469.197719</td>\n      <td>108.713167</td>\n      <td>4404.391764</td>\n      <td>64.861841</td>\n      <td>66.579995</td>\n      <td>0.274901</td>\n    </tr>\n    <tr>\n      <th>std</th>\n      <td>8.016420</td>\n      <td>1.298956</td>\n      <td>7.986593</td>\n      <td>1.554440</td>\n      <td>1.010584</td>\n      <td>1.106267</td>\n      <td>9089.225428</td>\n      <td>815.012238</td>\n      <td>9091.132356</td>\n      <td>353.912795</td>\n      <td>3397.157925</td>\n      <td>23.471594</td>\n      <td>284.001363</td>\n      <td>0.275704</td>\n    </tr>\n    <tr>\n      <th>min</th>\n      <td>26.000000</td>\n      <td>0.000000</td>\n      <td>13.000000</td>\n      <td>1.000000</td>\n      <td>0.000000</td>\n      <td>0.000000</td>\n      <td>1438.300000</td>\n      <td>0.000000</td>\n      <td>3.000000</td>\n      <td>0.000000</td>\n      <td>510.000000</td>\n      <td>10.000000</td>\n      <td>0.000000</td>\n      <td>0.000000</td>\n    </tr>\n    <tr>\n      <th>25%</th>\n      <td>41.000000</td>\n      <td>1.000000</td>\n      <td>31.000000</td>\n      <td>3.000000</td>\n      <td>2.000000</td>\n      <td>2.000000</td>\n      <td>2555.000000</td>\n      <td>358.000000</td>\n      <td>1324.250000</td>\n      <td>0.631000</td>\n      <td>2156.000000</td>\n      <td>45.000000</td>\n      <td>0.582000</td>\n      <td>0.023000</td>\n    </tr>\n    <tr>\n      <th>50%</th>\n      <td>46.000000</td>\n      <td>2.000000</td>\n      <td>36.000000</td>\n      <td>4.000000</td>\n      <td>2.000000</td>\n      <td>2.000000</td>\n      <td>4549.000000</td>\n      <td>1276.000000</td>\n      <td>3473.000000</td>\n      <td>0.736000</td>\n      <td>3899.500000</td>\n      <td>67.000000</td>\n      <td>0.702000</td>\n      <td>0.175500</td>\n    </tr>\n    <tr>\n      <th>75%</th>\n      <td>52.000000</td>\n      <td>3.000000</td>\n      <td>40.000000</td>\n      <td>5.000000</td>\n      <td>3.000000</td>\n      <td>3.000000</td>\n      <td>11067.750000</td>\n      <td>1784.000000</td>\n      <td>9860.000000</td>\n      <td>0.859000</td>\n      <td>4741.000000</td>\n      <td>81.000000</td>\n      <td>0.818000</td>\n      <td>0.503000</td>\n    </tr>\n    <tr>\n      <th>max</th>\n      <td>73.000000</td>\n      <td>5.000000</td>\n      <td>56.000000</td>\n      <td>6.000000</td>\n      <td>6.000000</td>\n      <td>6.000000</td>\n      <td>34516.000000</td>\n      <td>2517.000000</td>\n      <td>34516.000000</td>\n      <td>3397.000000</td>\n      <td>18484.000000</td>\n      <td>139.000000</td>\n      <td>3714.000000</td>\n      <td>0.999000</td>\n    </tr>\n  </tbody>\n</table>\n</div>"
     },
     "metadata": {}
    }
   ],
   "source": [
    "tabela_clientes = tabela_clientes.dropna() # exclui as linhas que tem itens vazios\n",
    "display(tabela_clientes.info())\n",
    "display(tabela_clientes.describe())"
   ]
  },
  {
   "source": [
    "Passo 3: Analisar os Dados\n",
    "    - Queremos descobrir o motivo dos clientes CANCELAREM"
   ],
   "cell_type": "markdown",
   "metadata": {}
  },
  {
   "cell_type": "code",
   "execution_count": 12,
   "metadata": {},
   "outputs": [
    {
     "output_type": "display_data",
     "data": {
      "text/plain": "Cliente      8499\nCancelado    1627\nName: Categoria, dtype: int64"
     },
     "metadata": {}
    },
    {
     "output_type": "display_data",
     "data": {
      "text/plain": "Cliente      0.839325\nCancelado    0.160675\nName: Categoria, dtype: float64"
     },
     "metadata": {}
    }
   ],
   "source": [
    "display(tabela_clientes['Categoria'].value_counts())\n",
    "display(tabela_clientes['Categoria'].value_counts(normalize=True))"
   ]
  },
  {
   "source": [
    "Seu objetivo: Analisar o 80/20 - Regra de Pareto\n",
    "\n",
    "Olhar todas as características dos clientes e descobrir os PRINCIPAIS MOTIVOS de cancelamento"
   ],
   "cell_type": "markdown",
   "metadata": {}
  },
  {
   "cell_type": "code",
   "execution_count": 25,
   "metadata": {},
   "outputs": [
    {
     "output_type": "error",
     "ename": "AttributeError",
     "evalue": "'Figure' object has no attribute 'savefig'",
     "traceback": [
      "\u001b[0;31m---------------------------------------------------------------------------\u001b[0m",
      "\u001b[0;31mAttributeError\u001b[0m                            Traceback (most recent call last)",
      "\u001b[0;32m<ipython-input-25-827097a958ef>\u001b[0m in \u001b[0;36m<module>\u001b[0;34m\u001b[0m\n\u001b[1;32m      9\u001b[0m     \u001b[0mfig\u001b[0m \u001b[0;34m=\u001b[0m \u001b[0mpx\u001b[0m\u001b[0;34m.\u001b[0m\u001b[0mhistogram\u001b[0m\u001b[0;34m(\u001b[0m\u001b[0mtabela_clientes\u001b[0m\u001b[0;34m,\u001b[0m \u001b[0mx\u001b[0m\u001b[0;34m=\u001b[0m \u001b[0mcoluna\u001b[0m\u001b[0;34m,\u001b[0m \u001b[0mcolor\u001b[0m\u001b[0;34m=\u001b[0m\u001b[0;34m'Categoria'\u001b[0m\u001b[0;34m)\u001b[0m\u001b[0;34m\u001b[0m\u001b[0;34m\u001b[0m\u001b[0m\n\u001b[1;32m     10\u001b[0m     \u001b[0;31m#passo 2: exibir a figura\u001b[0m\u001b[0;34m\u001b[0m\u001b[0;34m\u001b[0m\u001b[0;34m\u001b[0m\u001b[0m\n\u001b[0;32m---> 11\u001b[0;31m     \u001b[0mfig\u001b[0m\u001b[0;34m.\u001b[0m\u001b[0msavefig\u001b[0m\u001b[0;34m(\u001b[0m\u001b[0;34m'teste.png'\u001b[0m\u001b[0;34m,\u001b[0m \u001b[0mformat\u001b[0m\u001b[0;34m=\u001b[0m\u001b[0;34m'png'\u001b[0m\u001b[0;34m)\u001b[0m\u001b[0;34m\u001b[0m\u001b[0;34m\u001b[0m\u001b[0m\n\u001b[0m\u001b[1;32m     12\u001b[0m     \u001b[0mfig\u001b[0m\u001b[0;34m.\u001b[0m\u001b[0mshow\u001b[0m\u001b[0;34m(\u001b[0m\u001b[0;34m)\u001b[0m\u001b[0;34m\u001b[0m\u001b[0;34m\u001b[0m\u001b[0m\n",
      "\u001b[0;31mAttributeError\u001b[0m: 'Figure' object has no attribute 'savefig'"
     ]
    }
   ],
   "source": [
    "import plotly.express as px\n",
    "#https://ploty.com/python/histograms/\n",
    "\n",
    "\n",
    "\n",
    "for coluna in tabela_clientes:\n",
    "    # Criar gráfico:\n",
    "    #passo 1: Criar a figura\n",
    "    fig = px.histogram(tabela_clientes, x= coluna, color='Categoria')\n",
    "    #passo 2: exibir a figura\n",
    "    fig.show()"
   ]
  },
  {
   "source": [
    "O que conseguimos perceber analisando os gráficos?\n",
    "\n",
    "1. Quase todos os clientes que cancelaram são da categoria Blue.\n",
    "2. Quanto mais o cliente entra em contato maior as chances de cancelamento. -> Plano de Ação: Analisar o motivo do contato e a qualidade do atendimento/ Tratar os clientes que mais entram em contato.\n",
    "3. Me parece que, quem usa pouco o cartão, cancela mais o cartão    \n",
    "    - Com mais de 80 transações o cliente não cancela mais o cartão\n",
    "    - Clientes com menos de 60 transações são muito críticos\n",
    "    - A mesma coisa acontece com a quantidade de transações"
   ],
   "cell_type": "markdown",
   "metadata": {}
  }
 ]
}